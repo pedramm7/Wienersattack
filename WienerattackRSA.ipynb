{
 "cells": [
  {
   "cell_type": "markdown",
   "metadata": {},
   "source": [
    "# Wiener's Attack on RSA\n",
    "\n",
    "## Introduction\n",
    "\n",
    "This notebook provides a complete implementation of the Wiener attack on RSA, a cryptanalytic technique that targets RSA keys with small private exponents. The attack was first discovered by Michael J. Wiener in 1990 and exploits the properties of continued fractions to efficiently recover the private key when certain conditions are met.\n",
    "\n",
    "RSA is one of the most widely used public key cryptosystems, but it can become vulnerable if its parameters are not chosen correctly. Specifically, if the private exponent d is too small relative to the modulus N, the Wiener attack can break the encryption in polynomial time."
   ]
  },
  {
   "cell_type": "markdown",
   "metadata": {
    "jp-MarkdownHeadingCollapsed": true
   },
   "source": [
    "## Mathematical Background\n",
    "\n",
    "### RSA Cryptosystem Basics\n",
    "\n",
    "In RSA:\n",
    "- We have a modulus $N = p \\times q$ where $p$ and $q$ are large primes\n",
    "- Public exponent $e$ and private exponent $d$ satisfy $e \\times d \\equiv 1 \\pmod{\\phi(N)}$\n",
    "- $\\phi(N) = (p-1) \\times (q-1)$ is Euler's totient function\n",
    "- Public key is $(e, N)$, private key is $(d, N)$\n",
    "\n",
    "### Wiener's Attack Theory\n",
    "\n",
    "Wiener discovered that if $d < \\frac{1}{3} \\times N^{1/4}$, then we can efficiently find $d$ using continued fraction expansion of $\\frac{e}{N}$.\n",
    "\n",
    "The attack is based on the fact that:\n",
    "- $e \\times d - k \\times \\phi(N) = 1$ for some integer $k$\n",
    "- If $d$ is small, then $\\frac{k}{d}$ is a close approximation to $\\frac{e}{\\phi(N)}$\n",
    "- $\\frac{e}{N}$ is a close approximation to $\\frac{e}{\\phi(N)}$\n",
    "- Therefore, $\\frac{k}{d}$ is one of the convergents in the continued fraction expansion of $\\frac{e}{N}$"
   ]
  },
  {
   "cell_type": "markdown",
   "metadata": {},
   "source": [
    "## 1. Helper Functions\n",
    "\n",
    "The first cell defines helper functions: \n",
    "- one to compute the continued fraction expansion for a rational number\n",
    "- one to compute the convergents from that expansion\n",
    "- one to check whether a number is a perfect square."
   ]
  },
  {
   "cell_type": "code",
   "execution_count": 24,
   "metadata": {},
   "outputs": [],
   "source": [
    "import math\n",
    "\n",
    "def continued_fraction_expansion(numerator, denominator):\n",
    "    \"\"\"\n",
    "    Computes the continued fraction expansion of a rational number numerator/denominator.\n",
    "    \n",
    "    Returns:\n",
    "        A list of integers representing the coefficients in the continued fraction.\n",
    "    \"\"\"\n",
    "    cf = []\n",
    "    while denominator:\n",
    "        a = numerator // denominator\n",
    "        cf.append(a)\n",
    "        numerator, denominator = denominator, numerator - a * denominator\n",
    "    return cf\n",
    "\n",
    "def convergents_from_cf(cf):\n",
    "    \"\"\"\n",
    "    Given the continued fraction coefficients (cf), compute the convergents.\n",
    "    \n",
    "    Returns:\n",
    "        A list of tuples (numerator, denominator) representing each convergent.\n",
    "    \"\"\"\n",
    "    convergents = []\n",
    "    for i in range(len(cf)):\n",
    "        if i == 0:\n",
    "            convergents.append((cf[0], 1))\n",
    "        elif i == 1:\n",
    "            h = cf[0]*cf[1] + 1\n",
    "            k = cf[1]\n",
    "            convergents.append((h, k))\n",
    "        else:\n",
    "            h1, k1 = convergents[i-1]\n",
    "            h2, k2 = convergents[i-2]\n",
    "            h = cf[i]*h1 + h2\n",
    "            k = cf[i]*k1 + k2\n",
    "            convergents.append((h, k))\n",
    "    return convergents\n",
    "\n",
    "def is_perfect_square(n):\n",
    "    \"\"\"\n",
    "    Checks if n is a perfect square. \n",
    "    \n",
    "    Returns:\n",
    "        The integer square root of n if n is a perfect square, or None otherwise.\n",
    "    \"\"\"\n",
    "    if n < 0:\n",
    "        return None\n",
    "    root = int(math.isqrt(n))\n",
    "    return root if root*root == n else None"
   ]
  },
  {
   "cell_type": "markdown",
   "metadata": {},
   "source": [
    "### Explanation:\n",
    "\n",
    "- `continued_fraction_expansion` computes the expansion by repeatedly applying Euclid's algorithm.\n",
    "- `convergents_from_cf` builds the sequence of convergents from the continued fraction coefficients.\n",
    "- `is_perfect_square` is used to check whether the discriminant we compute later is a perfect square."
   ]
  },
  {
   "cell_type": "markdown",
   "metadata": {},
   "source": [
    "## 2. Implementing Wiener's Attack\n",
    "\n",
    "The following function attempts to recover the private exponent d from the public key (e, n)."
   ]
  },
  {
   "cell_type": "code",
   "execution_count": 25,
   "metadata": {},
   "outputs": [],
   "source": [
    "def wiener_attack(e, n):\n",
    "    \"\"\"\n",
    "    Performs Wiener's attack on an RSA public key (e, n).\n",
    "    \n",
    "    If successful, returns the private exponent d. If the attack fails (i.e. if d is not small\n",
    "    enough or the computed candidates do not yield a valid factorization of n), returns None.\n",
    "    \"\"\"\n",
    "    # Compute the continued fraction expansion for e/n.\n",
    "    cf = continued_fraction_expansion(e, n)\n",
    "    # Generate the convergents from the continued fraction.\n",
    "    convs = convergents_from_cf(cf)\n",
    "    \n",
    "    for (k, d_candidate) in convs:\n",
    "        # Candidate d must be positive and k must be non-zero.\n",
    "        if k == 0:\n",
    "            continue\n",
    "        \n",
    "        # Check if (e*d_candidate - 1) is divisible by k.\n",
    "        if (e * d_candidate - 1) % k != 0:\n",
    "            continue\n",
    "        \n",
    "        # Compute the possible phi(n)\n",
    "        phi_candidate = (e * d_candidate - 1) // k\n",
    "        \n",
    "        # Now, using the relation phi(n) = n - p - q + 1, we can set up the quadratic:\n",
    "        #   x^2 - (n - phi(n) + 1)*x + n = 0\n",
    "        # where x represents one of the prime factors.\n",
    "        a = 1\n",
    "        b = -(n - phi_candidate + 1)\n",
    "        c = n\n",
    "        \n",
    "        discriminant = b * b - 4 * a * c\n",
    "        sqrt_discriminant = is_perfect_square(discriminant)\n",
    "        if sqrt_discriminant is None:\n",
    "            continue\n",
    "        \n",
    "        # Compute the roots of the quadratic equation.\n",
    "        x1 = (-b + sqrt_discriminant) // 2\n",
    "        x2 = (-b - sqrt_discriminant) // 2\n",
    "        \n",
    "        # Check if the found roots multiply to n.\n",
    "        if x1 * x2 == n:\n",
    "            # If they do, then d_candidate is the private exponent.\n",
    "            return d_candidate\n",
    "    return None"
   ]
  },
  {
   "cell_type": "markdown",
   "metadata": {},
   "source": [
    "### Explanation:\n",
    "\n",
    "For each convergent `(k, d_candidate)` of the continued fraction expansion of e/n, the code:\n",
    "\n",
    "1. Checks if `(e · d_candidate – 1)` is divisible by k.\n",
    "\n",
    "2. If so, computes a candidate for φ(n) using:\n",
    "   φ_candidate = (e·d – 1)⁄k\n",
    "\n",
    "3. Then, it sets up the quadratic equation derived from the relation:\n",
    "   φ(n) = (p – 1)(q – 1) = n – (p + q) + 1\n",
    "\n",
    "4. It checks if the discriminant is a perfect square. If the factors computed from the quadratic multiply to n, then the candidate d is correct."
   ]
  },
  {
   "cell_type": "markdown",
   "metadata": {},
   "source": [
    "## 3. Interactive Input and Testing\n",
    "\n",
    "This cell enables you to input your RSA public key parameters and see the result. (For demonstration, if you have parameters where the private exponent is small, the attack will recover it.)"
   ]
  },
  {
   "cell_type": "code",
   "execution_count": null,
   "metadata": {},
   "outputs": [
    {
     "name": "stdout",
     "output_type": "stream",
     "text": [
      "Wiener's Attack on RSA\n",
      "----------------------\n"
     ]
    }
   ],
   "source": [
    "def main():\n",
    "    print(\"Wiener's Attack on RSA\")\n",
    "    print(\"----------------------\")\n",
    "    try:\n",
    "        # For interactive input, ensure you provide integer values.\n",
    "        e = int(input(\"Enter the RSA public exponent (e): \"))\n",
    "        n = int(input(\"Enter the RSA modulus (n): \"))\n",
    "    except ValueError:\n",
    "        print(\"Invalid input. Ensure you enter integers for e and n.\")\n",
    "        return\n",
    "    \n",
    "    d = wiener_attack(e, n)\n",
    "    \n",
    "    if d is not None:\n",
    "        print(\"\\nSuccess! The private exponent d is:\")\n",
    "        print(d)\n",
    "    else:\n",
    "        print(\"\\nWiener's attack failed. It seems the private exponent is not small enough.\")\n",
    "        \n",
    "if __name__ == \"__main__\":\n",
    "    main()"
   ]
  },
  {
   "cell_type": "markdown",
   "metadata": {},
   "source": [
    "### Explanation:\n",
    "\n",
    "- The `main()` function provides a simple interactive prompt where you can supply your RSA public key values.\n",
    "- If the attack is successful, it prints the recovered private exponent d; if not, it notifies you that the attack did not work (which most likely means d isn't small enough)."
   ]
  },
  {
   "cell_type": "markdown",
   "metadata": {},
   "source": [
    "## 4. Additional Explanation and Testing Ideas\n",
    "\n",
    "### Why Does the Attack Work?\n",
    "The success of Wiener's attack is rooted in the theory of continued fractions. When d is very small (compared to n), the fraction e/n (or more precisely, e/φ(n)) is well approximated by one of its convergents. This convergent gives us a candidate fraction k/d that satisfies the equation ed – k·φ(n) = 1, enabling the recovery of φ(n) and eventually the factors of n.\n",
    "\n",
    "### Testing the Notebook:\n",
    "To successfully test this notebook, use an RSA key pair known to have a small private exponent. In real-life RSA implementations, using a small d is strongly discouraged because it makes the key vulnerable to Wiener's attack.\n",
    "\n",
    "### Further Extensions:\n",
    "You might consider extending the notebook to:\n",
    "\n",
    "1. Generate RSA keys with small d to demonstrate the vulnerability.\n",
    "2. Visualize the continued fraction convergents and track the progress of the algorithm.\n",
    "3. Compare the running time with various key sizes to see how the vulnerability scales."
   ]
  },
  {
   "cell_type": "markdown",
   "metadata": {},
   "source": [
    "## 5. Example: Testing with a Vulnerable RSA Key\n",
    "\n",
    "Let's create a function to generate an RSA key pair with a deliberately small private exponent for testing purposes."
   ]
  },
  {
   "cell_type": "code",
   "execution_count": 20,
   "metadata": {},
   "outputs": [],
   "source": [
    "import random\n",
    "from math import gcd\n",
    "\n",
    "def generate_vulnerable_rsa(bits=512, d_bits=100):\n",
    "    \"\"\"\n",
    "    Generate an RSA key pair with a deliberately small private exponent for testing.\n",
    "    \n",
    "    Args:\n",
    "        bits: The bit length of the RSA modulus n.\n",
    "        d_bits: The bit length of the private exponent d.\n",
    "        \n",
    "    Returns:\n",
    "        A tuple (e, n, d, p, q) where (e, n) is the public key, d is the private key,\n",
    "        and p, q are the prime factors of n.\n",
    "    \"\"\"\n",
    "    # Generate two random prime numbers\n",
    "    from sympy import randprime\n",
    "    p = randprime(2**(bits//2 - 1), 2**(bits//2))\n",
    "    q = randprime(2**(bits//2 - 1), 2**(bits//2))\n",
    "    \n",
    "    n = p * q\n",
    "    phi = (p - 1) * (q - 1)\n",
    "    \n",
    "    # Generate a small value for d\n",
    "    d = randprime(2**(d_bits-1), 2**d_bits)\n",
    "    \n",
    "    # Ensure d and phi are coprime\n",
    "    while gcd(d, phi) != 1:\n",
    "        d = randprime(2**(d_bits-1), 2**d_bits)\n",
    "    \n",
    "    # Calculate e such that e*d ≡ 1 (mod phi)\n",
    "    e = pow(d, -1, phi)\n",
    "    \n",
    "    return (e, n, d, p, q)\n",
    "\n",
    "# Note: This requires the sympy library. If not installed, use: pip install sympy"
   ]
  },
  {
   "cell_type": "code",
   "execution_count": 22,
   "metadata": {},
   "outputs": [
    {
     "name": "stdout",
     "output_type": "stream",
     "text": [
      "Generated vulnerable RSA key pair:\n",
      "Public exponent (e): 5062935746356527563081865770588775843308752772654321623779020808404651421376353375502789815210019421229690860448230864570146154294912528854524084456650879\n",
      "Modulus (n): 9039712506836259983464415995539462219446775874774939727198743423918076293272804475581328092229151831563822903110518819693790780148288253097262851857756563\n",
      "Actual private exponent (d): 927650960267079454366656486719\n",
      "Prime factors: p=94418012898455753022355112587502689951827297889526901623670086167409216751313, q=95741397529285519916237432812584879769770269148161114868711585521493242729251\n",
      "\n",
      "Testing Wiener's attack...\n",
      "Attack successful! Recovered private exponent: 927650960267079454366656486719\n",
      "Is the recovered d correct? True\n"
     ]
    }
   ],
   "source": [
    "try:\n",
    "    # Try to generate a vulnerable RSA key pair\n",
    "    e, n, actual_d, p, q = generate_vulnerable_rsa()\n",
    "    \n",
    "    print(f\"Generated vulnerable RSA key pair:\")\n",
    "    print(f\"Public exponent (e): {e}\")\n",
    "    print(f\"Modulus (n): {n}\")\n",
    "    print(f\"Actual private exponent (d): {actual_d}\")\n",
    "    print(f\"Prime factors: p={p}, q={q}\")\n",
    "    \n",
    "    # Test the Wiener's attack\n",
    "    print(\"\\nTesting Wiener's attack...\")\n",
    "    recovered_d = wiener_attack(e, n)\n",
    "    \n",
    "    if recovered_d is not None:\n",
    "        print(f\"Attack successful! Recovered private exponent: {recovered_d}\")\n",
    "        print(f\"Is the recovered d correct? {recovered_d == actual_d}\")\n",
    "    else:\n",
    "        print(\"Attack failed. The private exponent might not be small enough for Wiener's attack.\")\n",
    "except ImportError:\n",
    "    print(\"This example requires the sympy library. Install it using: pip install sympy\")\n",
    "except Exception as ex:\n",
    "    print(f\"An error occurred: {ex}\")"
   ]
  },
  {
   "cell_type": "markdown",
   "metadata": {},
   "source": [
    "## References\n",
    "\n",
    "1. Wiener, M. J. (1990). \"Cryptanalysis of short RSA secret exponents\". IEEE Transactions on Information Theory, 36(3), 553-558.\n",
    "2. Boneh, D., & Durfee, G. (2000). \"Cryptanalysis of RSA with private key d less than N^0.292\". IEEE Transactions on Information Theory, 46(4), 1339-1349.\n",
    "3. Dujella, A. (2004). \"Continued fractions and RSA with small secret exponent\". Tatra Mountains Mathematical Publications, 29(1), 101-112.\n",
    "4. Howgrave-Graham, N. (1999). \"Finding small roots of univariate modular equations revisited\". In Crytography and Coding (pp. 131-142). Springer Berlin Heidelberg."
   ]
  },
  {
   "cell_type": "code",
   "execution_count": null,
   "metadata": {},
   "outputs": [],
   "source": []
  }
 ],
 "metadata": {
  "kernelspec": {
   "display_name": "Python 3 (ipykernel)",
   "language": "python",
   "name": "python3"
  },
  "language_info": {
   "codemirror_mode": {
    "name": "ipython",
    "version": 3
   },
   "file_extension": ".py",
   "mimetype": "text/x-python",
   "name": "python",
   "nbconvert_exporter": "python",
   "pygments_lexer": "ipython3",
   "version": "3.12.2"
  }
 },
 "nbformat": 4,
 "nbformat_minor": 4
}
